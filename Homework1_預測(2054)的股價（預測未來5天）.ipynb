{
  "nbformat": 4,
  "nbformat_minor": 0,
  "metadata": {
    "colab": {
      "provenance": []
    },
    "kernelspec": {
      "name": "python3",
      "display_name": "Python 3"
    },
    "language_info": {
      "name": "python"
    }
  },
  "cells": [
    {
      "cell_type": "code",
      "execution_count": 126,
      "metadata": {
        "colab": {
          "base_uri": "https://localhost:8080/",
          "height": 1000
        },
        "id": "g2F-a-UA8iPo",
        "outputId": "f33de0b8-96b2-4ab0-8739-5bcc22ec5dfd"
      },
      "outputs": [
        {
          "output_type": "stream",
          "name": "stdout",
          "text": [
            "         Date    Y   X1   X2   X3   X4   X5\n",
            "0   2021/10/7  855  857  858  859  858  857\n",
            "1   2021/10/8  865  855  857  858  859  858\n",
            "2  2021/10/11  861  865  855  857  858  859\n",
            "3  2021/10/12  855  861  865  855  857  858\n",
            "4  2021/10/13  851  855  861  865  855  857\n",
            "5  2021/10/14  853  851  855  861  865  855\n",
            "6  2021/10/15  861  853  851  855  861  865\n",
            "7  2021/10/18  851  861  853  851  855  861\n",
            "8  2021/10/19  855  851  861  853  851  855\n",
            "9  2021/10/20  862  855  851  861  853  851\n",
            "<class 'pandas.core.frame.DataFrame'>\n",
            "RangeIndex: 246 entries, 0 to 245\n",
            "Data columns (total 7 columns):\n",
            " #   Column  Non-Null Count  Dtype \n",
            "---  ------  --------------  ----- \n",
            " 0   Date    246 non-null    object\n",
            " 1   Y       246 non-null    int64 \n",
            " 2   X1      246 non-null    int64 \n",
            " 3   X2      246 non-null    int64 \n",
            " 4   X3      246 non-null    int64 \n",
            " 5   X4      246 non-null    int64 \n",
            " 6   X5      246 non-null    int64 \n",
            "dtypes: int64(6), object(1)\n",
            "memory usage: 13.6+ KB\n",
            "None\n",
            "                Y          X1          X2          X3          X4          X5\n",
            "count  246.000000  246.000000  246.000000  246.000000  246.000000  246.000000\n",
            "mean   616.325203  617.646341  618.975610  620.341463  621.630081  622.906504\n",
            "std     97.330407   98.381188   99.409437  100.388822  101.395716  102.373523\n",
            "min    491.000000  491.000000  491.000000  491.000000  491.000000  491.000000\n",
            "25%    544.250000  545.000000  545.250000  546.250000  547.000000  547.000000\n",
            "50%    585.000000  586.000000  588.000000  589.000000  589.500000  590.000000\n",
            "75%    663.750000  664.750000  666.500000  669.250000  670.750000  672.500000\n",
            "max    933.000000  933.000000  933.000000  933.000000  933.000000  933.000000\n"
          ]
        },
        {
          "output_type": "display_data",
          "data": {
            "text/plain": [
              "<Figure size 432x288 with 1 Axes>"
            ],
            "image/png": "[encoded data removed]"
          },
          "metadata": {
            "needs_background": "light"
          }
        },
        {
          "output_type": "execute_result",
          "data": {
            "text/plain": [
              "<matplotlib.axes._subplots.AxesSubplot at 0x7fbf5df5e8d0>"
            ]
          },
          "metadata": {},
          "execution_count": 126
        },
        {
          "output_type": "display_data",
          "data": {
            "text/plain": [
              "<Figure size 432x288 with 1 Axes>"
            ],
            "image/png": "[encoded data removed]"
          },
          "metadata": {
            "needs_background": "light"
          }
        }
      ],
      "source": [
        "import pandas as pd\n",
        "import matplotlib.pyplot as plt\n",
        "import seaborn as sns \n",
        "\n",
        "data=pd.read_csv(\"/content/2054.TW.csv\")\n",
        "print(data.head(10))\n",
        "print(data.info())\n",
        "print(data.describe())\n",
        "\n",
        "plt.scatter(data.X1,data.Y)\n",
        "# plt.scatter(data.X2,data.Y)\n",
        "# plt.scatter(data.X3,data.Y)\n",
        "# plt.scatter(data.X4,data.Y)\n",
        "# plt.scatter(data.X5,data.Y)\n",
        "plt.show()\n",
        "\n",
        "sns.histplot(data.Y)"
      ]
    },
    {
      "cell_type": "code",
      "source": [
        "import numpy as np\n",
        "\n",
        "X = data['X1'].values.reshape(-1,1)\n",
        "X = X[np.isfinite(X)].reshape(-1,1)\n",
        "Y = data['Y'].values.reshape(-1,1)\n",
        "Y = Y[np.isfinite(Y)].reshape(-1,1)\n",
        "\n",
        "print(type(X),X.shape)\n",
        "print(type(Y),Y.shape)\n",
        "data2=data.values\n",
        "print(type(data2),data2.shape)"
      ],
      "metadata": {
        "colab": {
          "base_uri": "https://localhost:8080/"
        },
        "id": "d49NqB7SCpH2",
        "outputId": "7e4eed38-9283-47b8-afcc-7e124e51ee4c"
      },
      "execution_count": 127,
      "outputs": [
        {
          "output_type": "stream",
          "name": "stdout",
          "text": [
            "<class 'numpy.ndarray'> (246, 1)\n",
            "<class 'numpy.ndarray'> (246, 1)\n",
            "<class 'numpy.ndarray'> (246, 7)\n"
          ]
        }
      ]
    },
    {
      "cell_type": "code",
      "source": [
        "from sklearn.linear_model import LinearRegression as LR\n",
        "from sklearn import linear_model\n",
        "\n",
        "# model selection\n",
        "# using Lasso model\n",
        "model = linear_model.Lasso(alpha=0.1)\n",
        "\n",
        "print(model)\n",
        "model.fit(X,Y)\n",
        "\n",
        "# y=ax+b\n",
        "a = float(model.coef_)\n",
        "b = float(model.intercept_)\n",
        "\n",
        "def plotmodel(a=100,b=5):\n",
        "  print(\"a=\",a,\"b=\",b)\n",
        "  xm=np.array([0,1000])\n",
        "  ym=a*xm+b\n",
        "  plt.scatter(X,Y)\n",
        "  plt.plot(xm,ym,'r')\n",
        "  plt.show()\n",
        "\n",
        "plotmodel()\n",
        "plotmodel(a,b)\n",
        "print(a)\n",
        "print(b)"
      ],
      "metadata": {
        "colab": {
          "base_uri": "https://localhost:8080/",
          "height": 604
        },
        "id": "nOW-0qMYGDUt",
        "outputId": "1778ff84-4ae3-4730-df3d-fe7392f85136"
      },
      "execution_count": 128,
      "outputs": [
        {
          "output_type": "stream",
          "name": "stdout",
          "text": [
            "Lasso(alpha=0.1)\n",
            "a= 100 b= 5\n"
          ]
        },
        {
          "output_type": "display_data",
          "data": {
            "text/plain": [
              "<Figure size 432x288 with 1 Axes>"
            ],
            "image/png": "[encoded data removed]"
          },
          "metadata": {
            "needs_background": "light"
          }
        },
        {
          "output_type": "stream",
          "name": "stdout",
          "text": [
            "a= 0.9789186891099907 b= 11.699656333085045\n"
          ]
        },
        {
          "output_type": "display_data",
          "data": {
            "text/plain": [
              "<Figure size 432x288 with 1 Axes>"
            ],
            "image/png": "[encoded data removed]"
          },
          "metadata": {
            "needs_background": "light"
          }
        },
        {
          "output_type": "stream",
          "name": "stdout",
          "text": [
            "0.9789186891099907\n",
            "11.699656333085045\n"
          ]
        }
      ]
    },
    {
      "cell_type": "code",
      "source": [
        "from sklearn.metrics import r2_score\n",
        "from sklearn.metrics import mean_squared_error\n",
        "from sklearn.metrics import mean_absolute_error\n",
        "y_true = Y\n",
        "y_pred = model.predict(X)\n",
        "r2 = r2_score(y_true, y_pred)\n",
        "mse = mean_squared_error(y_true, y_pred)\n",
        "mae = mean_absolute_error(y_true, y_pred)\n",
        "\n",
        "print(\"r2=\",r2)\n",
        "print(\"mse=\",mse)\n",
        "print(\"mae=\",mae)"
      ],
      "metadata": {
        "colab": {
          "base_uri": "https://localhost:8080/"
        },
        "id": "BoIqUYQ-Gizc",
        "outputId": "f3075ae6-12f8-4d57-ed4c-f2f947ace2b6"
      },
      "execution_count": 129,
      "outputs": [
        {
          "output_type": "stream",
          "name": "stdout",
          "text": [
            "r2= 0.9791054981581516\n",
            "mse= 197.13333815879784\n",
            "mae= 8.066557828478475\n"
          ]
        }
      ]
    },
    {
      "cell_type": "code",
      "source": [
        "dataset = data.fillna(method='ffill')\n",
        "X_ = dataset[['X1', 'X2', 'X3', 'X4', 'X5']].values\n",
        "\n",
        "# using LinearRegression model\n",
        "#80% Training set，20% Test set\n",
        "\n",
        "from sklearn.model_selection import train_test_split\n",
        "X_train, X_test, Y_train, Y_test = train_test_split(X_, Y, test_size=0.2, random_state=0)\n",
        "\n",
        "model_LR = LR(fit_intercept=True)\n",
        "model_LR.fit(X_train, Y_train)\n",
        "# Y_test.flatten()\n",
        "\n",
        "pred = model_LR.predict(X_) \n",
        "\n",
        "from sklearn import metrics\n",
        "R2 = model_LR.score(X_,Y)\n",
        "MSE = metrics.mean_squared_error(Y,pred)\n",
        "MAE = metrics.mean_absolute_error(Y,pred)\n",
        "print(\"R2=\",R2)\n",
        "print(\"mse=\",MSE)\n",
        "print(\"mae=\",MAE)\n",
        "\n",
        "# plt.scatter(X_,Y,s=200,label='Y True')\n",
        "# plt.scatter(X_,pred,color='r',s=10,label='Predicted')\n",
        "# plt.xlabel('X_')\n",
        "# plt.xlabel('Y')\n",
        "# plt.legend()\n",
        "# plt.show()\n",
        "\n",
        "print(model_LR.coef_)\n",
        "print(model_LR.intercept_)"
      ],
      "metadata": {
        "colab": {
          "base_uri": "https://localhost:8080/"
        },
        "id": "k-6ZUHFCmPqH",
        "outputId": "41960912-e6b9-40d2-808e-bbf8dfbfb5e3"
      },
      "execution_count": 130,
      "outputs": [
        {
          "output_type": "stream",
          "name": "stdout",
          "text": [
            "R2= 0.9790614979865034\n",
            "mse= 197.54846653956596\n",
            "mae= 8.711904961508123\n",
            "[[ 1.01771648 -0.2721641   0.10779182  0.13882693 -0.01956566]]\n",
            "[15.11842577]\n"
          ]
        }
      ]
    },
    {
      "cell_type": "code",
      "source": [
        "# Lasso Regression\n",
        "from sklearn.model_selection import cross_val_score\n",
        "from sklearn import model_selection\n",
        "from sklearn.linear_model import Lasso\n",
        "\n",
        "lasso = linear_model.Lasso()\n",
        "print(cross_val_score(lasso, X, Y, cv=5))"
      ],
      "metadata": {
        "colab": {
          "base_uri": "https://localhost:8080/"
        },
        "id": "1dMdJ_Sr6FRI",
        "outputId": "192c4a40-b4b1-4187-f092-343d1f566b59"
      },
      "execution_count": 131,
      "outputs": [
        {
          "output_type": "stream",
          "name": "stdout",
          "text": [
            "[0.92005761 0.47921352 0.9064304  0.8230377  0.80875097]\n"
          ]
        }
      ]
    },
    {
      "cell_type": "code",
      "source": [
        "preY = pd.DataFrame(y_pred)\n",
        "preY.shape\n",
        "preY.head()"
      ],
      "metadata": {
        "colab": {
          "base_uri": "https://localhost:8080/",
          "height": 206
        },
        "id": "8XiuQayIGpLy",
        "outputId": "d1652354-0bbb-4a01-d14e-477b86c04df7"
      },
      "execution_count": 132,
      "outputs": [
        {
          "output_type": "execute_result",
          "data": {
            "text/plain": [
              "            0\n",
              "0  850.632973\n",
              "1  848.675136\n",
              "2  858.464322\n",
              "3  854.548648\n",
              "4  848.675136"
            ],
            "text/html": [
              "\n",
              "  <div id=\"df-b3986922-990a-4702-91e4-14f3d27a068c\">\n",
              "    <div class=\"colab-df-container\">\n",
              "      <div>\n",
              "<style scoped>\n",
              "    .dataframe tbody tr th:only-of-type {\n",
              "        vertical-align: middle;\n",
              "    }\n",
              "\n",
              "    .dataframe tbody tr th {\n",
              "        vertical-align: top;\n",
              "    }\n",
              "\n",
              "    .dataframe thead th {\n",
              "        text-align: right;\n",
              "    }\n",
              "</style>\n",
              "<table border=\"1\" class=\"dataframe\">\n",
              "  <thead>\n",
              "    <tr style=\"text-align: right;\">\n",
              "      <th></th>\n",
              "      <th>0</th>\n",
              "    </tr>\n",
              "  </thead>\n",
              "  <tbody>\n",
              "    <tr>\n",
              "      <th>0</th>\n",
              "      <td>850.632973</td>\n",
              "    </tr>\n",
              "    <tr>\n",
              "      <th>1</th>\n",
              "      <td>848.675136</td>\n",
              "    </tr>\n",
              "    <tr>\n",
              "      <th>2</th>\n",
              "      <td>858.464322</td>\n",
              "    </tr>\n",
              "    <tr>\n",
              "      <th>3</th>\n",
              "      <td>854.548648</td>\n",
              "    </tr>\n",
              "    <tr>\n",
              "      <th>4</th>\n",
              "      <td>848.675136</td>\n",
              "    </tr>\n",
              "  </tbody>\n",
              "</table>\n",
              "</div>\n",
              "      <button class=\"colab-df-convert\" onclick=\"convertToInteractive('df-b3986922-990a-4702-91e4-14f3d27a068c')\"\n",
              "              title=\"Convert this dataframe to an interactive table.\"\n",
              "              style=\"display:none;\">\n",
              "        \n",
              "  <svg xmlns=\"http://www.w3.org/2000/svg\" height=\"24px\"viewBox=\"0 0 24 24\"\n",
              "       width=\"24px\">\n",
              "    <path d=\"M0 0h24v24H0V0z\" fill=\"none\"/>\n",
              "    <path d=\"M18.56 5.44l.94 2.06.94-2.06 2.06-.94-2.06-.94-.94-2.06-.94 2.06-2.06.94zm-11 1L8.5 8.5l.94-2.06 2.06-.94-2.06-.94L8.5 2.5l-.94 2.06-2.06.94zm10 10l.94 2.06.94-2.06 2.06-.94-2.06-.94-.94-2.06-.94 2.06-2.06.94z\"/><path d=\"M17.41 7.96l-1.37-1.37c-.4-.4-.92-.59-1.43-.59-.52 0-1.04.2-1.43.59L10.3 9.45l-7.72 7.72c-.78.78-.78 2.05 0 2.83L4 21.41c.39.39.9.59 1.41.59.51 0 1.02-.2 1.41-.59l7.78-7.78 2.81-2.81c.8-.78.8-2.07 0-2.86zM5.41 20L4 18.59l7.72-7.72 1.47 1.35L5.41 20z\"/>\n",
              "  </svg>\n",
              "      </button>\n",
              "      \n",
              "  <style>\n",
              "    .colab-df-container {\n",
              "      display:flex;\n",
              "      flex-wrap:wrap;\n",
              "      gap: 12px;\n",
              "    }\n",
              "\n",
              "    .colab-df-convert {\n",
              "      background-color: #E8F0FE;\n",
              "      border: none;\n",
              "      border-radius: 50%;\n",
              "      cursor: pointer;\n",
              "      display: none;\n",
              "      fill: #1967D2;\n",
              "      height: 32px;\n",
              "      padding: 0 0 0 0;\n",
              "      width: 32px;\n",
              "    }\n",
              "\n",
              "    .colab-df-convert:hover {\n",
              "      background-color: #E2EBFA;\n",
              "      box-shadow: 0px 1px 2px rgba(60, 64, 67, 0.3), 0px 1px 3px 1px rgba(60, 64, 67, 0.15);\n",
              "      fill: #174EA6;\n",
              "    }\n",
              "\n",
              "    [theme=dark] .colab-df-convert {\n",
              "      background-color: #3B4455;\n",
              "      fill: #D2E3FC;\n",
              "    }\n",
              "\n",
              "    [theme=dark] .colab-df-convert:hover {\n",
              "      background-color: #434B5C;\n",
              "      box-shadow: 0px 1px 3px 1px rgba(0, 0, 0, 0.15);\n",
              "      filter: drop-shadow(0px 1px 2px rgba(0, 0, 0, 0.3));\n",
              "      fill: #FFFFFF;\n",
              "    }\n",
              "  </style>\n",
              "\n",
              "      <script>\n",
              "        const buttonEl =\n",
              "          document.querySelector('#df-b3986922-990a-4702-91e4-14f3d27a068c button.colab-df-convert');\n",
              "        buttonEl.style.display =\n",
              "          google.colab.kernel.accessAllowed ? 'block' : 'none';\n",
              "\n",
              "        async function convertToInteractive(key) {\n",
              "          const element = document.querySelector('#df-b3986922-990a-4702-91e4-14f3d27a068c');\n",
              "          const dataTable =\n",
              "            await google.colab.kernel.invokeFunction('convertToInteractive',\n",
              "                                                     [key], {});\n",
              "          if (!dataTable) return;\n",
              "\n",
              "          const docLinkHtml = 'Like what you see? Visit the ' +\n",
              "            '<a target=\"_blank\" href=https://colab.research.google.com/notebooks/data_table.ipynb>data table notebook</a>'\n",
              "            + ' to learn more about interactive tables.';\n",
              "          element.innerHTML = '';\n",
              "          dataTable['output_type'] = 'display_data';\n",
              "          await google.colab.output.renderOutput(dataTable, element);\n",
              "          const docLink = document.createElement('div');\n",
              "          docLink.innerHTML = docLinkHtml;\n",
              "          element.appendChild(docLink);\n",
              "        }\n",
              "      </script>\n",
              "    </div>\n",
              "  </div>\n",
              "  "
            ]
          },
          "metadata": {},
          "execution_count": 132
        }
      ]
    }
  ]
}