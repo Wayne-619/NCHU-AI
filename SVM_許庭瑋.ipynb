{
  "cells": [
    {
      "cell_type": "code",
      "execution_count": null,
      "metadata": {
        "id": "OFE_bbeG3buN",
        "outputId": "8c0b1931-49a3-46e5-947b-a4e1df281775"
      },
      "outputs": [
        {
          "name": "stdout",
          "output_type": "stream",
          "text": [
            "Alessandro Parisi \n",
            "last updated: 2019-02-18 \n",
            "\n",
            "CPython 3.5.4\n",
            "IPython 6.1.0\n",
            "\n",
            "numpy 1.16.1\n",
            "pandas 0.20.3\n",
            "matplotlib 2.0.2\n",
            "sklearn 0.20.0\n",
            "seaborn 0.8.0\n"
          ]
        }
      ],
      "source": [
        "%load_ext watermark\n",
        "%watermark -a \"Alessandro Parisi\" -u -d -v -p numpy,pandas,matplotlib,sklearn,seaborn\n",
        "# to install watermark launch 'pip install watermark' at command line\n",
        "import warnings \n",
        "warnings.simplefilter('ignore')"
      ]
    },
    {
      "cell_type": "code",
      "execution_count": null,
      "metadata": {
        "id": "XkKS5vMH3buO"
      },
      "outputs": [],
      "source": [
        "import pandas as pd\n",
        "import numpy as np\n",
        "import matplotlib.pyplot as plt  \n",
        "\n",
        "df = pd.read_csv('/content/sms_spam_svm.csv')\n",
        "\n",
        "y = df.iloc[:, 0].values\n",
        "y = np.where(y == 'spam', -1, 1)\n",
        "\n",
        "X = df.iloc[:, [1, 2]].values"
      ]
    },
    {
      "cell_type": "code",
      "execution_count": null,
      "metadata": {
        "collapsed": true,
        "id": "aAf-Ozxl3buO"
      },
      "outputs": [],
      "source": [
        "from sklearn.model_selection import train_test_split\n",
        "\n",
        "X_train, X_test, y_train, y_test = train_test_split(\n",
        "         X, y, test_size=0.3, random_state=0)\n",
        "\n"
      ]
    },
    {
      "cell_type": "code",
      "execution_count": null,
      "metadata": {
        "id": "mX-b7ZtE3buO"
      },
      "outputs": [],
      "source": [
        "from sklearn.svm import SVC\n",
        "\n",
        "svm = SVC(kernel='linear', C=1.0, random_state=1)\n",
        "svm.fit(X_train, y_train)\n",
        "\n",
        "y_pred = svm.predict(X_test)\n"
      ]
    },
    {
      "cell_type": "code",
      "execution_count": 9,
      "metadata": {
        "id": "8NEsARBA3buO",
        "outputId": "7a9a06c7-e673-4d85-ecc4-87c152779dd8",
        "colab": {
          "base_uri": "https://localhost:8080/",
          "height": 390
        }
      },
      "outputs": [
        {
          "output_type": "stream",
          "name": "stderr",
          "text": [
            "/usr/local/lib/python3.7/dist-packages/mlxtend/plotting/decision_regions.py:242: UserWarning: No contour levels were found within the data range.\n",
            "  antialiased=True)\n",
            "/usr/local/lib/python3.7/dist-packages/mlxtend/plotting/decision_regions.py:244: MatplotlibDeprecationWarning: Passing unsupported keyword arguments to axis() will raise a TypeError in 3.3.\n",
            "  ax.axis(xmin=xx.min(), xmax=xx.max(), y_min=yy.min(), y_max=yy.max())\n"
          ]
        },
        {
          "output_type": "display_data",
          "data": {
            "text/plain": [
              "<Figure size 432x288 with 1 Axes>"
            ],
            "image/png": "[encoded data removed]"
          },
          "metadata": {
            "needs_background": "light"
          }
        }
      ],
      "source": [
        "# Thanks to Sebastian Raschka for 'plot_decision_regions'\n",
        "# https://github.com/rasbt/python-machine-learning-book\n",
        "from mlxtend.plotting import plot_decision_regions\n",
        "\n",
        "X_combined = np.vstack((X_train, X_test))\n",
        "y_combined = np.hstack((y_train, y_test))\n",
        "\n",
        "plot_decision_regions(X_combined, y_combined,\n",
        "                      clf=svm)\n",
        "plt.xlabel('suspect words')\n",
        "plt.ylabel('spam or ham')\n",
        "plt.legend(loc='upper right')\n",
        "plt.tight_layout()\n",
        "plt.show()"
      ]
    },
    {
      "cell_type": "code",
      "execution_count": 10,
      "metadata": {
        "id": "55tcxEAn3buO",
        "outputId": "9c890d2a-7ee6-44e7-a74d-fd49bfe6aded",
        "colab": {
          "base_uri": "https://localhost:8080/"
        }
      },
      "outputs": [
        {
          "output_type": "stream",
          "name": "stdout",
          "text": [
            "Misclassified samples: 7\n",
            "Accuracy: 0.84\n"
          ]
        }
      ],
      "source": [
        "from sklearn.metrics import accuracy_score\n",
        "\n",
        "print('Misclassified samples: %d' % (y_test != y_pred).sum())\n",
        "print('Accuracy: %.2f' % accuracy_score(y_test, y_pred))"
      ]
    },
    {
      "cell_type": "code",
      "execution_count": null,
      "metadata": {
        "collapsed": true,
        "id": "rCN-aDnW3buO"
      },
      "outputs": [],
      "source": []
    }
  ],
  "metadata": {
    "kernelspec": {
      "display_name": "Py35",
      "language": "python",
      "name": "py35"
    },
    "language_info": {
      "codemirror_mode": {
        "name": "ipython",
        "version": 3
      },
      "file_extension": ".py",
      "mimetype": "text/x-python",
      "name": "python",
      "nbconvert_exporter": "python",
      "pygments_lexer": "ipython3",
      "version": "3.5.4"
    },
    "colab": {
      "provenance": []
    }
  },
  "nbformat": 4,
  "nbformat_minor": 0
}